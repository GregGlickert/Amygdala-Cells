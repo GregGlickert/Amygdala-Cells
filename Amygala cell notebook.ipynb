{
  "cells": [
    {
      "cell_type": "markdown",
      "metadata": {
        "id": "mm9UKgVmVzM1"
      },
      "source": [
        "# Amygdala single cell templates\n",
        "## This notebook contains the major cells types present in the amygdala along with code to generate the passive properties, current injections, and FI curves for each cell. Also present in this notebook is the bio data in which these template cells were constrained from. "
      ]
    },
    {
      "cell_type": "markdown",
      "metadata": {
        "id": "dn6cwDqsWHmJ"
      },
      "source": [
        "Download the project directory"
      ]
    },
    {
      "cell_type": "code",
      "execution_count": 1,
      "metadata": {
        "id": "x7RqByMvVodf"
      },
      "outputs": [],
      "source": [
        "!rm -rf ./Amygdala-Cells\n",
        "!git clone https://github.com/GregGlickert/Amygdala-Cells &> /dev/null"
      ]
    },
    {
      "cell_type": "markdown",
      "metadata": {
        "id": "GQeCM-WHWKcP"
      },
      "source": [
        "Install the necessary packages"
      ]
    },
    {
      "cell_type": "code",
      "execution_count": 2,
      "metadata": {
        "id": "iop-fdGkVud8"
      },
      "outputs": [],
      "source": [
        "!pip install --upgrade bmtool neuron &> /dev/null"
      ]
    },
    {
      "cell_type": "markdown",
      "metadata": {
        "id": "rB0fT_pNWVMl"
      },
      "source": [
        "Compile the mechanisms for the cell templates"
      ]
    },
    {
      "cell_type": "code",
      "execution_count": 3,
      "metadata": {
        "id": "jIzOPxKuV66K",
        "colab": {
          "base_uri": "https://localhost:8080/"
        },
        "outputId": "bc098f71-66af-4da4-ab00-6b5e8053f57e"
      },
      "outputs": [
        {
          "output_type": "stream",
          "name": "stdout",
          "text": [
            "/content/Amygdala-Cells\n"
          ]
        }
      ],
      "source": [
        "!cd ./Amygdala-Cells/mechanisms && nrnivmodl modfiles &> /dev/null\n",
        "%cd Amygdala-Cells/"
      ]
    },
    {
      "cell_type": "markdown",
      "metadata": {
        "id": "VFh2yIVbWfe1"
      },
      "source": [
        "This section of code is run through a subprocess. Once neuron loads a hoc template file there is no reloading. By creating a subprocess Neuron is isolated and closes after running.\n",
        "\n",
        "This allows for conductance changes to the `Amygdala/feng.hoc` and `Amygdala/som.hoc` files.\n"
      ]
    },
    {
      "cell_type": "code",
      "execution_count": 4,
      "metadata": {
        "colab": {
          "base_uri": "https://localhost:8080/",
          "height": 118,
          "referenced_widgets": [
            "f08d59bb59b64351b2109771f16c409d",
            "22f8a3fa05f5400cb46f26154621c15d",
            "78362c12db874540a71aa867c3b64a2d",
            "f12c9fd83c164b8c91d20c331f7897c4",
            "9894f4ee2bda4265a22dae4f42a5ae2e",
            "e9e423b7e8174d00bd28b7f0266dac34",
            "765f3ce3ac4f4a2693fb031a1a2738e7",
            "f38a9f865ecf4cd9b03f6d843ad3d6b5",
            "befae2ab27244610a0daf771139d5193",
            "5cc9f1ec3ebc4e56978e77e2cbeb7b3f",
            "7382231be08f4aaa9647444048abfe68",
            "18967fab24f54e9d808775277cde5d9a",
            "8478e45bf0254b0db76b23518576be4e",
            "ab258104f4e04fe3b443eaa9ada191cb",
            "2cbff76fdd524b1bbbd88e4a24d980bc",
            "2210b257d1454984a1ce688ec0f150cf",
            "778acb381efb47fe899a1ab2e9369767",
            "372481a930eb4c4a8ee318aa3d25504c",
            "02e5fb9b31784f0ab74fedb18ae14017"
          ]
        },
        "id": "9zwmd2tyWNaH",
        "outputId": "5dbb7e87-8729-4bf1-faf8-bcdce4ee9eee",
        "cellView": "form"
      },
      "outputs": [
        {
          "output_type": "display_data",
          "data": {
            "text/plain": [
              "HBox(children=(RadioButtons(description='Cell:', options=('Cell_Af', 'Cell_Cf', 'InterneuronCellf', 'SOM_Cell'…"
            ],
            "application/vnd.jupyter.widget-view+json": {
              "version_major": 2,
              "version_minor": 0,
              "model_id": "f08d59bb59b64351b2109771f16c409d"
            }
          },
          "metadata": {}
        }
      ],
      "source": [
        "#@title Cell template gui code\n",
        "from neuron import clear_gui_callback\n",
        "from multiprocessing import Process\n",
        "import ipywidgets as widgets\n",
        "from ipywidgets import interactive_output,HBox,VBox,Label,Layout\n",
        "from IPython.display import display\n",
        "from IPython.display import clear_output\n",
        "\n",
        "# Function to be run in a subprocess\n",
        "def run(Cell = None, option = None, noise = None, inj_amp = 300, inj_delay = 400, inj_dur = 1000):\n",
        "    # Build a profiler object\n",
        "    from bmtool.singlecell import Profiler\n",
        "\n",
        "    profiler = Profiler(template_dir='templates', \n",
        "                        mechanism_dir='mechanisms')\n",
        "    if option == 'Passive properties':\n",
        "      # Get passive properties for a given cell template you can change when passive properties are taken   \n",
        "      _,_ = profiler.passive_properties(Cell, plot=False)\n",
        "      print(\"BIO DATA\")\n",
        "      if Cell == 'Cell_Af' or Cell == 'Cell_Cf':\n",
        "        print(\"RMP of -65.8 plus or minus 2.9 mV \\ninput resistance of 58.1 plus or minus 10 megaohms \\ntau of 27.9 plus or minus 1.9 ms\")\n",
        "\n",
        "    if option == 'Current Clamp':\n",
        "      # Voltage trace with current clamp for a given cell template and injection strength\n",
        "      if noise == True:\n",
        "        time_vec, voltage_vec = profiler.current_injection(Cell, post_init_function=\"insert_mechs(123)\", inj_amp=inj_amp, inj_delay=inj_delay, inj_dur=inj_dur,tstop=1700)\n",
        "      if noise == False:\n",
        "        time_vec, voltage_vec = profiler.current_injection(Cell, inj_amp=inj_amp, inj_delay=inj_delay, inj_dur=inj_dur,tstop=1700)\n",
        "\n",
        "    if option == 'FI curve':\n",
        "      # FI curve given a cell\n",
        "      if noise == True:\n",
        "        amp_vec, spike_vec = profiler.fi_curve(Cell, post_init_function=\"insert_mechs(123)\")\n",
        "      if noise == False:\n",
        "        amp_vec, spike_vec = profiler.fi_curve(Cell)\n",
        "    \n",
        "    if option == 'All of the above':\n",
        "      _,_ = profiler.passive_properties(Cell)\n",
        "      if noise == True:\n",
        "        time_vec, voltage_vec = profiler.current_injection(Cell, post_init_function=\"insert_mechs(123)\", inj_amp=inj_amp, inj_delay=inj_delay, inj_dur=inj_dur,tstop=1700)\n",
        "        amp_vec, spike_vec = profiler.fi_curve(Cell, post_init_function=\"insert_mechs(123)\")\n",
        "      if noise == False:\n",
        "        time_vec, voltage_vec = profiler.current_injection(Cell, inj_amp=inj_amp, inj_delay=inj_delay, inj_dur=inj_dur,tstop=1700)\n",
        "        amp_vec, spike_vec = profiler.fi_curve(Cell)\n",
        "\n",
        "# runs the profiler without using the current clamp settings\n",
        "def run_profiler(btn):\n",
        "  clear_output()\n",
        "  Cell = cell_select.value\n",
        "  plot = plot_select.value\n",
        "  Noise = noise.value\n",
        "  p = Process(target=run(Cell=Cell, option=plot, noise = Noise))\n",
        "  p.start()\n",
        "  p.join()\n",
        "  display(ui)\n",
        "\n",
        "# runs the profiler using current clamp setting get separte to have everything look nicer\n",
        "def run_profiler_clamp(btn):\n",
        "  clear_output()\n",
        "  Cell = cell_select.value\n",
        "  plot = plot_select.value\n",
        "  Noise = noise.value\n",
        "  inj_amp = current_amp.value\n",
        "  inj_dur = current_dur.value\n",
        "  inj_delay = current_delay.value\n",
        "  p = Process(target=run(Cell=Cell, option=plot, noise = Noise, inj_amp = inj_amp, inj_delay = inj_delay, inj_dur = inj_dur))\n",
        "  p.start()\n",
        "  p.join()\n",
        "  display(ui)  \n",
        "\n",
        "def current_settings(btn):\n",
        "  run_clamp = widgets.Button(description=\"run clamp!\",icon='history',button_style='primary')\n",
        "  current_ui = HBox([current_amp, current_dur, current_delay, run_clamp])\n",
        "  run_clamp.on_click(run_profiler_clamp)\n",
        "  display(current_ui)\n",
        "\n",
        "# core widgets\n",
        "cell_select = widgets.RadioButtons(options=['Cell_Af', 'Cell_Cf', 'InterneuronCellf', 'SOM_Cell'],value='Cell_Af',description='Cell:',disabled=False)\n",
        "plot_select = widgets.RadioButtons(options=['Passive properties', 'Current Clamp', 'FI curve', 'All of the above'],value='Passive properties',description='Plot:',disabled=False)\n",
        "show = widgets.Button(description=\"Show result\",icon='history',button_style='primary')\n",
        "current_clamp_adv = widgets.Button(description=\"Clamp Settings\",icon='history',button_style='primary')\n",
        "noise = widgets.Checkbox(value=False,description='Check to add noise to cell',disabled=False,indent=False)\n",
        "\n",
        "#current clamp widgets\n",
        "current_amp = widgets.BoundedFloatText(value=300,min=-200,max=500.0,step=50,description='Current (pA)',disabled=False)\n",
        "current_dur = widgets.BoundedFloatText(value=1000,min=0,max=1500,step=100,description='Duration',disabled=False)\n",
        "current_delay = widgets.BoundedFloatText(value=400,min=0,max=1000,step=100,description='Delay',disabled=False)\n",
        "\n",
        "\n",
        "show.on_click(run_profiler)\n",
        "current_clamp_adv.on_click(current_settings)\n",
        "ui = HBox([cell_select, plot_select, noise, VBox([show,current_clamp_adv])])\n",
        "ui\n",
        "\n"
      ]
    },
    {
      "cell_type": "markdown",
      "source": [
        "The bio data for the Type A, Type C and PV(interneuronCellF) cells are from\n",
        "\n",
        "Intracellular recordings from morphologically identified neurons of the basolateral amygdala (Rainnie et al., 1993)\n",
        "https://journals.physiology.org/doi/epdf/10.1152/jn.1993.69.4.1350\n",
        "\n",
        "\n",
        "\n",
        "with additional bio data for PV cells from Networks of Parvalbumin-Positive Interneurons in the Basolateral Amygdala (Woodruff and Sah, 2007)\n",
        "https://www.jneurosci.org/content/27/3/553\n",
        "\n",
        "PN cells\n",
        "\n",
        "RMP of -65.8 plus or minus 2.9 mV\n",
        "\n",
        "input resistance of 58.1 plus or minus 10 megaohms \n",
        "\n",
        "tau of 27.9 plus or minus 1.9 ms"
      ],
      "metadata": {
        "id": "f-FYruxkN0Yx"
      }
    },
    {
      "cell_type": "code",
      "execution_count": 4,
      "metadata": {
        "id": "D3VBJs8pW8Sp"
      },
      "outputs": [],
      "source": []
    }
  ],
  "metadata": {
    "colab": {
      "provenance": []
    },
    "kernelspec": {
      "display_name": "Python 3",
      "name": "python3"
    },
    "language_info": {
      "codemirror_mode": {
        "name": "ipython",
        "version": 3
      },
      "file_extension": ".py",
      "mimetype": "text/x-python",
      "name": "python",
      "nbconvert_exporter": "python",
      "pygments_lexer": "ipython3",
      "version": "3.8.16"
    },
    "widgets": {
      "application/vnd.jupyter.widget-state+json": {
        "f08d59bb59b64351b2109771f16c409d": {
          "model_module": "@jupyter-widgets/controls",
          "model_name": "HBoxModel",
          "model_module_version": "1.5.0",
          "state": {
            "_dom_classes": [],
            "_model_module": "@jupyter-widgets/controls",
            "_model_module_version": "1.5.0",
            "_model_name": "HBoxModel",
            "_view_count": null,
            "_view_module": "@jupyter-widgets/controls",
            "_view_module_version": "1.5.0",
            "_view_name": "HBoxView",
            "box_style": "",
            "children": [
              "IPY_MODEL_22f8a3fa05f5400cb46f26154621c15d",
              "IPY_MODEL_78362c12db874540a71aa867c3b64a2d",
              "IPY_MODEL_f12c9fd83c164b8c91d20c331f7897c4",
              "IPY_MODEL_9894f4ee2bda4265a22dae4f42a5ae2e"
            ],
            "layout": "IPY_MODEL_e9e423b7e8174d00bd28b7f0266dac34"
          }
        },
        "22f8a3fa05f5400cb46f26154621c15d": {
          "model_module": "@jupyter-widgets/controls",
          "model_name": "RadioButtonsModel",
          "model_module_version": "1.5.0",
          "state": {
            "_dom_classes": [],
            "_model_module": "@jupyter-widgets/controls",
            "_model_module_version": "1.5.0",
            "_model_name": "RadioButtonsModel",
            "_options_labels": [
              "Cell_Af",
              "Cell_Cf",
              "InterneuronCellf",
              "SOM_Cell"
            ],
            "_view_count": null,
            "_view_module": "@jupyter-widgets/controls",
            "_view_module_version": "1.5.0",
            "_view_name": "RadioButtonsView",
            "description": "Cell:",
            "description_tooltip": null,
            "disabled": false,
            "index": 0,
            "layout": "IPY_MODEL_765f3ce3ac4f4a2693fb031a1a2738e7",
            "style": "IPY_MODEL_f38a9f865ecf4cd9b03f6d843ad3d6b5"
          }
        },
        "78362c12db874540a71aa867c3b64a2d": {
          "model_module": "@jupyter-widgets/controls",
          "model_name": "RadioButtonsModel",
          "model_module_version": "1.5.0",
          "state": {
            "_dom_classes": [],
            "_model_module": "@jupyter-widgets/controls",
            "_model_module_version": "1.5.0",
            "_model_name": "RadioButtonsModel",
            "_options_labels": [
              "Passive properties",
              "Current Clamp",
              "FI curve",
              "All of the above"
            ],
            "_view_count": null,
            "_view_module": "@jupyter-widgets/controls",
            "_view_module_version": "1.5.0",
            "_view_name": "RadioButtonsView",
            "description": "Plot:",
            "description_tooltip": null,
            "disabled": false,
            "index": 0,
            "layout": "IPY_MODEL_befae2ab27244610a0daf771139d5193",
            "style": "IPY_MODEL_5cc9f1ec3ebc4e56978e77e2cbeb7b3f"
          }
        },
        "f12c9fd83c164b8c91d20c331f7897c4": {
          "model_module": "@jupyter-widgets/controls",
          "model_name": "CheckboxModel",
          "model_module_version": "1.5.0",
          "state": {
            "_dom_classes": [],
            "_model_module": "@jupyter-widgets/controls",
            "_model_module_version": "1.5.0",
            "_model_name": "CheckboxModel",
            "_view_count": null,
            "_view_module": "@jupyter-widgets/controls",
            "_view_module_version": "1.5.0",
            "_view_name": "CheckboxView",
            "description": "Check to add noise to cell",
            "description_tooltip": null,
            "disabled": false,
            "indent": false,
            "layout": "IPY_MODEL_7382231be08f4aaa9647444048abfe68",
            "style": "IPY_MODEL_18967fab24f54e9d808775277cde5d9a",
            "value": false
          }
        },
        "9894f4ee2bda4265a22dae4f42a5ae2e": {
          "model_module": "@jupyter-widgets/controls",
          "model_name": "VBoxModel",
          "model_module_version": "1.5.0",
          "state": {
            "_dom_classes": [],
            "_model_module": "@jupyter-widgets/controls",
            "_model_module_version": "1.5.0",
            "_model_name": "VBoxModel",
            "_view_count": null,
            "_view_module": "@jupyter-widgets/controls",
            "_view_module_version": "1.5.0",
            "_view_name": "VBoxView",
            "box_style": "",
            "children": [
              "IPY_MODEL_8478e45bf0254b0db76b23518576be4e",
              "IPY_MODEL_ab258104f4e04fe3b443eaa9ada191cb"
            ],
            "layout": "IPY_MODEL_2cbff76fdd524b1bbbd88e4a24d980bc"
          }
        },
        "e9e423b7e8174d00bd28b7f0266dac34": {
          "model_module": "@jupyter-widgets/base",
          "model_name": "LayoutModel",
          "model_module_version": "1.2.0",
          "state": {
            "_model_module": "@jupyter-widgets/base",
            "_model_module_version": "1.2.0",
            "_model_name": "LayoutModel",
            "_view_count": null,
            "_view_module": "@jupyter-widgets/base",
            "_view_module_version": "1.2.0",
            "_view_name": "LayoutView",
            "align_content": null,
            "align_items": null,
            "align_self": null,
            "border": null,
            "bottom": null,
            "display": null,
            "flex": null,
            "flex_flow": null,
            "grid_area": null,
            "grid_auto_columns": null,
            "grid_auto_flow": null,
            "grid_auto_rows": null,
            "grid_column": null,
            "grid_gap": null,
            "grid_row": null,
            "grid_template_areas": null,
            "grid_template_columns": null,
            "grid_template_rows": null,
            "height": null,
            "justify_content": null,
            "justify_items": null,
            "left": null,
            "margin": null,
            "max_height": null,
            "max_width": null,
            "min_height": null,
            "min_width": null,
            "object_fit": null,
            "object_position": null,
            "order": null,
            "overflow": null,
            "overflow_x": null,
            "overflow_y": null,
            "padding": null,
            "right": null,
            "top": null,
            "visibility": null,
            "width": null
          }
        },
        "765f3ce3ac4f4a2693fb031a1a2738e7": {
          "model_module": "@jupyter-widgets/base",
          "model_name": "LayoutModel",
          "model_module_version": "1.2.0",
          "state": {
            "_model_module": "@jupyter-widgets/base",
            "_model_module_version": "1.2.0",
            "_model_name": "LayoutModel",
            "_view_count": null,
            "_view_module": "@jupyter-widgets/base",
            "_view_module_version": "1.2.0",
            "_view_name": "LayoutView",
            "align_content": null,
            "align_items": null,
            "align_self": null,
            "border": null,
            "bottom": null,
            "display": null,
            "flex": null,
            "flex_flow": null,
            "grid_area": null,
            "grid_auto_columns": null,
            "grid_auto_flow": null,
            "grid_auto_rows": null,
            "grid_column": null,
            "grid_gap": null,
            "grid_row": null,
            "grid_template_areas": null,
            "grid_template_columns": null,
            "grid_template_rows": null,
            "height": null,
            "justify_content": null,
            "justify_items": null,
            "left": null,
            "margin": null,
            "max_height": null,
            "max_width": null,
            "min_height": null,
            "min_width": null,
            "object_fit": null,
            "object_position": null,
            "order": null,
            "overflow": null,
            "overflow_x": null,
            "overflow_y": null,
            "padding": null,
            "right": null,
            "top": null,
            "visibility": null,
            "width": null
          }
        },
        "f38a9f865ecf4cd9b03f6d843ad3d6b5": {
          "model_module": "@jupyter-widgets/controls",
          "model_name": "DescriptionStyleModel",
          "model_module_version": "1.5.0",
          "state": {
            "_model_module": "@jupyter-widgets/controls",
            "_model_module_version": "1.5.0",
            "_model_name": "DescriptionStyleModel",
            "_view_count": null,
            "_view_module": "@jupyter-widgets/base",
            "_view_module_version": "1.2.0",
            "_view_name": "StyleView",
            "description_width": ""
          }
        },
        "befae2ab27244610a0daf771139d5193": {
          "model_module": "@jupyter-widgets/base",
          "model_name": "LayoutModel",
          "model_module_version": "1.2.0",
          "state": {
            "_model_module": "@jupyter-widgets/base",
            "_model_module_version": "1.2.0",
            "_model_name": "LayoutModel",
            "_view_count": null,
            "_view_module": "@jupyter-widgets/base",
            "_view_module_version": "1.2.0",
            "_view_name": "LayoutView",
            "align_content": null,
            "align_items": null,
            "align_self": null,
            "border": null,
            "bottom": null,
            "display": null,
            "flex": null,
            "flex_flow": null,
            "grid_area": null,
            "grid_auto_columns": null,
            "grid_auto_flow": null,
            "grid_auto_rows": null,
            "grid_column": null,
            "grid_gap": null,
            "grid_row": null,
            "grid_template_areas": null,
            "grid_template_columns": null,
            "grid_template_rows": null,
            "height": null,
            "justify_content": null,
            "justify_items": null,
            "left": null,
            "margin": null,
            "max_height": null,
            "max_width": null,
            "min_height": null,
            "min_width": null,
            "object_fit": null,
            "object_position": null,
            "order": null,
            "overflow": null,
            "overflow_x": null,
            "overflow_y": null,
            "padding": null,
            "right": null,
            "top": null,
            "visibility": null,
            "width": null
          }
        },
        "5cc9f1ec3ebc4e56978e77e2cbeb7b3f": {
          "model_module": "@jupyter-widgets/controls",
          "model_name": "DescriptionStyleModel",
          "model_module_version": "1.5.0",
          "state": {
            "_model_module": "@jupyter-widgets/controls",
            "_model_module_version": "1.5.0",
            "_model_name": "DescriptionStyleModel",
            "_view_count": null,
            "_view_module": "@jupyter-widgets/base",
            "_view_module_version": "1.2.0",
            "_view_name": "StyleView",
            "description_width": ""
          }
        },
        "7382231be08f4aaa9647444048abfe68": {
          "model_module": "@jupyter-widgets/base",
          "model_name": "LayoutModel",
          "model_module_version": "1.2.0",
          "state": {
            "_model_module": "@jupyter-widgets/base",
            "_model_module_version": "1.2.0",
            "_model_name": "LayoutModel",
            "_view_count": null,
            "_view_module": "@jupyter-widgets/base",
            "_view_module_version": "1.2.0",
            "_view_name": "LayoutView",
            "align_content": null,
            "align_items": null,
            "align_self": null,
            "border": null,
            "bottom": null,
            "display": null,
            "flex": null,
            "flex_flow": null,
            "grid_area": null,
            "grid_auto_columns": null,
            "grid_auto_flow": null,
            "grid_auto_rows": null,
            "grid_column": null,
            "grid_gap": null,
            "grid_row": null,
            "grid_template_areas": null,
            "grid_template_columns": null,
            "grid_template_rows": null,
            "height": null,
            "justify_content": null,
            "justify_items": null,
            "left": null,
            "margin": null,
            "max_height": null,
            "max_width": null,
            "min_height": null,
            "min_width": null,
            "object_fit": null,
            "object_position": null,
            "order": null,
            "overflow": null,
            "overflow_x": null,
            "overflow_y": null,
            "padding": null,
            "right": null,
            "top": null,
            "visibility": null,
            "width": null
          }
        },
        "18967fab24f54e9d808775277cde5d9a": {
          "model_module": "@jupyter-widgets/controls",
          "model_name": "DescriptionStyleModel",
          "model_module_version": "1.5.0",
          "state": {
            "_model_module": "@jupyter-widgets/controls",
            "_model_module_version": "1.5.0",
            "_model_name": "DescriptionStyleModel",
            "_view_count": null,
            "_view_module": "@jupyter-widgets/base",
            "_view_module_version": "1.2.0",
            "_view_name": "StyleView",
            "description_width": ""
          }
        },
        "8478e45bf0254b0db76b23518576be4e": {
          "model_module": "@jupyter-widgets/controls",
          "model_name": "ButtonModel",
          "model_module_version": "1.5.0",
          "state": {
            "_dom_classes": [],
            "_model_module": "@jupyter-widgets/controls",
            "_model_module_version": "1.5.0",
            "_model_name": "ButtonModel",
            "_view_count": null,
            "_view_module": "@jupyter-widgets/controls",
            "_view_module_version": "1.5.0",
            "_view_name": "ButtonView",
            "button_style": "primary",
            "description": "Show result",
            "disabled": false,
            "icon": "history",
            "layout": "IPY_MODEL_2210b257d1454984a1ce688ec0f150cf",
            "style": "IPY_MODEL_778acb381efb47fe899a1ab2e9369767",
            "tooltip": ""
          }
        },
        "ab258104f4e04fe3b443eaa9ada191cb": {
          "model_module": "@jupyter-widgets/controls",
          "model_name": "ButtonModel",
          "model_module_version": "1.5.0",
          "state": {
            "_dom_classes": [],
            "_model_module": "@jupyter-widgets/controls",
            "_model_module_version": "1.5.0",
            "_model_name": "ButtonModel",
            "_view_count": null,
            "_view_module": "@jupyter-widgets/controls",
            "_view_module_version": "1.5.0",
            "_view_name": "ButtonView",
            "button_style": "primary",
            "description": "Clamp Settings",
            "disabled": false,
            "icon": "history",
            "layout": "IPY_MODEL_372481a930eb4c4a8ee318aa3d25504c",
            "style": "IPY_MODEL_02e5fb9b31784f0ab74fedb18ae14017",
            "tooltip": ""
          }
        },
        "2cbff76fdd524b1bbbd88e4a24d980bc": {
          "model_module": "@jupyter-widgets/base",
          "model_name": "LayoutModel",
          "model_module_version": "1.2.0",
          "state": {
            "_model_module": "@jupyter-widgets/base",
            "_model_module_version": "1.2.0",
            "_model_name": "LayoutModel",
            "_view_count": null,
            "_view_module": "@jupyter-widgets/base",
            "_view_module_version": "1.2.0",
            "_view_name": "LayoutView",
            "align_content": null,
            "align_items": null,
            "align_self": null,
            "border": null,
            "bottom": null,
            "display": null,
            "flex": null,
            "flex_flow": null,
            "grid_area": null,
            "grid_auto_columns": null,
            "grid_auto_flow": null,
            "grid_auto_rows": null,
            "grid_column": null,
            "grid_gap": null,
            "grid_row": null,
            "grid_template_areas": null,
            "grid_template_columns": null,
            "grid_template_rows": null,
            "height": null,
            "justify_content": null,
            "justify_items": null,
            "left": null,
            "margin": null,
            "max_height": null,
            "max_width": null,
            "min_height": null,
            "min_width": null,
            "object_fit": null,
            "object_position": null,
            "order": null,
            "overflow": null,
            "overflow_x": null,
            "overflow_y": null,
            "padding": null,
            "right": null,
            "top": null,
            "visibility": null,
            "width": null
          }
        },
        "2210b257d1454984a1ce688ec0f150cf": {
          "model_module": "@jupyter-widgets/base",
          "model_name": "LayoutModel",
          "model_module_version": "1.2.0",
          "state": {
            "_model_module": "@jupyter-widgets/base",
            "_model_module_version": "1.2.0",
            "_model_name": "LayoutModel",
            "_view_count": null,
            "_view_module": "@jupyter-widgets/base",
            "_view_module_version": "1.2.0",
            "_view_name": "LayoutView",
            "align_content": null,
            "align_items": null,
            "align_self": null,
            "border": null,
            "bottom": null,
            "display": null,
            "flex": null,
            "flex_flow": null,
            "grid_area": null,
            "grid_auto_columns": null,
            "grid_auto_flow": null,
            "grid_auto_rows": null,
            "grid_column": null,
            "grid_gap": null,
            "grid_row": null,
            "grid_template_areas": null,
            "grid_template_columns": null,
            "grid_template_rows": null,
            "height": null,
            "justify_content": null,
            "justify_items": null,
            "left": null,
            "margin": null,
            "max_height": null,
            "max_width": null,
            "min_height": null,
            "min_width": null,
            "object_fit": null,
            "object_position": null,
            "order": null,
            "overflow": null,
            "overflow_x": null,
            "overflow_y": null,
            "padding": null,
            "right": null,
            "top": null,
            "visibility": null,
            "width": null
          }
        },
        "778acb381efb47fe899a1ab2e9369767": {
          "model_module": "@jupyter-widgets/controls",
          "model_name": "ButtonStyleModel",
          "model_module_version": "1.5.0",
          "state": {
            "_model_module": "@jupyter-widgets/controls",
            "_model_module_version": "1.5.0",
            "_model_name": "ButtonStyleModel",
            "_view_count": null,
            "_view_module": "@jupyter-widgets/base",
            "_view_module_version": "1.2.0",
            "_view_name": "StyleView",
            "button_color": null,
            "font_weight": ""
          }
        },
        "372481a930eb4c4a8ee318aa3d25504c": {
          "model_module": "@jupyter-widgets/base",
          "model_name": "LayoutModel",
          "model_module_version": "1.2.0",
          "state": {
            "_model_module": "@jupyter-widgets/base",
            "_model_module_version": "1.2.0",
            "_model_name": "LayoutModel",
            "_view_count": null,
            "_view_module": "@jupyter-widgets/base",
            "_view_module_version": "1.2.0",
            "_view_name": "LayoutView",
            "align_content": null,
            "align_items": null,
            "align_self": null,
            "border": null,
            "bottom": null,
            "display": null,
            "flex": null,
            "flex_flow": null,
            "grid_area": null,
            "grid_auto_columns": null,
            "grid_auto_flow": null,
            "grid_auto_rows": null,
            "grid_column": null,
            "grid_gap": null,
            "grid_row": null,
            "grid_template_areas": null,
            "grid_template_columns": null,
            "grid_template_rows": null,
            "height": null,
            "justify_content": null,
            "justify_items": null,
            "left": null,
            "margin": null,
            "max_height": null,
            "max_width": null,
            "min_height": null,
            "min_width": null,
            "object_fit": null,
            "object_position": null,
            "order": null,
            "overflow": null,
            "overflow_x": null,
            "overflow_y": null,
            "padding": null,
            "right": null,
            "top": null,
            "visibility": null,
            "width": null
          }
        },
        "02e5fb9b31784f0ab74fedb18ae14017": {
          "model_module": "@jupyter-widgets/controls",
          "model_name": "ButtonStyleModel",
          "model_module_version": "1.5.0",
          "state": {
            "_model_module": "@jupyter-widgets/controls",
            "_model_module_version": "1.5.0",
            "_model_name": "ButtonStyleModel",
            "_view_count": null,
            "_view_module": "@jupyter-widgets/base",
            "_view_module_version": "1.2.0",
            "_view_name": "StyleView",
            "button_color": null,
            "font_weight": ""
          }
        }
      }
    }
  },
  "nbformat": 4,
  "nbformat_minor": 0
}